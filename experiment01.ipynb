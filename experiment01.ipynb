{
 "cells": [
  {
   "cell_type": "markdown",
   "metadata": {},
   "source": [
    "# Thefuzz library experiment, fuzzy logic in action"
   ]
  },
  {
   "cell_type": "raw",
   "metadata": {},
   "source": [
    "Less define the problema and idea\n",
    "This code was a helping hand for  a call center\n",
    "This helping center normally input the location of the customer. \n",
    "It can be the house, office or in the middle of the street.\n",
    "The customer normally give data in a fast way which cause problems and errors for the employee.\n",
    "It create problems to define the specific geolocation of a call or event.\n",
    "\n",
    "This code will help by joining new geo points with previous ones using Fuzzy Logic.\n",
    "Normal comparison are less effective here. They tends to \n",
    "For example:\n",
    "Old Record: The traffic accident occured in the 45th Street, in the Santa Lucia Bridge, Section 1.\n",
    "New Record: by the brige, thre is a collision between vehcules, by the sec 1, 45 street.\n",
    "\n",
    "A person will not have any problem undestanding this sentence, even with the gramatical errors, \n",
    "but a computer will have a hard time.\n",
    "As a solution I will use Levenshtein distance in Python and a library called\n",
    "thefuzz(originally fuzzywuzzy)\n",
    "I will use 5 diferent sentences. I will check the ratios to see which generate a better solution or threshold."
   ]
  },
  {
   "cell_type": "code",
   "execution_count": 45,
   "metadata": {},
   "outputs": [],
   "source": [
    "import numpy as np \n",
    "import pandas as pd "
   ]
  },
  {
   "cell_type": "code",
   "execution_count": 46,
   "metadata": {},
   "outputs": [],
   "source": [
    "from thefuzz import fuzz\n",
    "from thefuzz import process"
   ]
  },
  {
   "cell_type": "markdown",
   "metadata": {},
   "source": [
    "## Some important concepts of the library used"
   ]
  },
  {
   "cell_type": "raw",
   "metadata": {},
   "source": [
    "ratio: To measure the Levenshtein similirity ratio between two strings."
   ]
  },
  {
   "cell_type": "raw",
   "metadata": {},
   "source": [
    "partial_ratio: It uses the shortest string, then compare it with substrings of the same length."
   ]
  },
  {
   "cell_type": "raw",
   "metadata": {},
   "source": [
    "token_sort_ratio: It tokenize the strings, set the strings to lowercase and clean of puntuations."
   ]
  },
  {
   "cell_type": "raw",
   "metadata": {},
   "source": [
    "token_set_ratio: It takes out the common tokens instead of just tokenizing the strings, sorting, and then calculating the ratio."
   ]
  },
  {
   "cell_type": "markdown",
   "metadata": {},
   "source": [
    "## Simple examples"
   ]
  },
  {
   "cell_type": "code",
   "execution_count": 47,
   "metadata": {},
   "outputs": [],
   "source": [
    "word1 = 'HELLO FUZZYWUZZY'\n",
    "word2 = 'hello fuzzywuzzy'"
   ]
  },
  {
   "cell_type": "code",
   "execution_count": 48,
   "metadata": {},
   "outputs": [
    {
     "data": {
      "text/plain": [
       "6"
      ]
     },
     "execution_count": 48,
     "metadata": {},
     "output_type": "execute_result"
    }
   ],
   "source": [
    "fuzz.ratio(word1,word2)"
   ]
  },
  {
   "cell_type": "code",
   "execution_count": 49,
   "metadata": {},
   "outputs": [
    {
     "data": {
      "text/plain": [
       "6"
      ]
     },
     "execution_count": 49,
     "metadata": {},
     "output_type": "execute_result"
    }
   ],
   "source": [
    "fuzz.partial_ratio(word1,word2)"
   ]
  },
  {
   "cell_type": "code",
   "execution_count": 50,
   "metadata": {},
   "outputs": [
    {
     "data": {
      "text/plain": [
       "100"
      ]
     },
     "execution_count": 50,
     "metadata": {},
     "output_type": "execute_result"
    }
   ],
   "source": [
    "fuzz.token_sort_ratio(word1,word2)"
   ]
  },
  {
   "cell_type": "code",
   "execution_count": 51,
   "metadata": {},
   "outputs": [
    {
     "data": {
      "text/plain": [
       "100"
      ]
     },
     "execution_count": 51,
     "metadata": {},
     "output_type": "execute_result"
    }
   ],
   "source": [
    "fuzz.token_set_ratio(word1,word2)"
   ]
  },
  {
   "cell_type": "markdown",
   "metadata": {},
   "source": [
    "## Creating our dataset"
   ]
  },
  {
   "cell_type": "code",
   "execution_count": 52,
   "metadata": {},
   "outputs": [],
   "source": [
    "# list of previous points\n",
    "prelist = ['There is a hurt person nearby to the Santa Lucia school, in the 67 street', \n",
    "        'A traffic accident in the 96 avenue, with direction to the 45 street',\n",
    "        'There is a kid who fall in a hole in the 75 stret , sec 23, near to the Alfred Cafe',\n",
    "        'there is a collision between vehicules at the traffic line of the 45 section, 67 street',\n",
    "        'A taxi crashed against a school bus in the San Juan Avenue, with direction to the 67 streeet'\n",
    "      ]\n",
    "  \n",
    "# list of new points\n",
    "newlist = ['in the 45 street there is a person blackout, at the 96 avenue',\n",
    "          'at the section 23 of the 75 street there is a oldman that needs medical attention',\n",
    "          'collision in the 67 street, with direction to the school',\n",
    "          'a motorcicle crash in the 67 streett, 45 sec, medical support required',\n",
    "          'At the 67th street, a collision between vehicules around the San Juan Ave.']"
   ]
  },
  {
   "cell_type": "code",
   "execution_count": 53,
   "metadata": {},
   "outputs": [
    {
     "data": {
      "text/html": [
       "<div>\n",
       "<style scoped>\n",
       "    .dataframe tbody tr th:only-of-type {\n",
       "        vertical-align: middle;\n",
       "    }\n",
       "\n",
       "    .dataframe tbody tr th {\n",
       "        vertical-align: top;\n",
       "    }\n",
       "\n",
       "    .dataframe thead th {\n",
       "        text-align: right;\n",
       "    }\n",
       "</style>\n",
       "<table border=\"1\" class=\"dataframe\">\n",
       "  <thead>\n",
       "    <tr style=\"text-align: right;\">\n",
       "      <th></th>\n",
       "      <th>previous</th>\n",
       "      <th>new</th>\n",
       "    </tr>\n",
       "  </thead>\n",
       "  <tbody>\n",
       "    <tr>\n",
       "      <th>0</th>\n",
       "      <td>There is a hurt person nearby to the Santa Luc...</td>\n",
       "      <td>in the 45 street there is a person blackout, a...</td>\n",
       "    </tr>\n",
       "    <tr>\n",
       "      <th>1</th>\n",
       "      <td>A traffic accident in the 96 avenue, with dire...</td>\n",
       "      <td>at the section 23 of the 75 street there is a ...</td>\n",
       "    </tr>\n",
       "    <tr>\n",
       "      <th>2</th>\n",
       "      <td>There is a kid who fall in a hole in the 75 st...</td>\n",
       "      <td>collision in the 67 street, with direction to ...</td>\n",
       "    </tr>\n",
       "    <tr>\n",
       "      <th>3</th>\n",
       "      <td>there is a collision between vehicules at the ...</td>\n",
       "      <td>a motorcicle crash in the 67 streett, 45 sec, ...</td>\n",
       "    </tr>\n",
       "    <tr>\n",
       "      <th>4</th>\n",
       "      <td>A taxi crashed against a school bus in the San...</td>\n",
       "      <td>At the 67th street, a collision between vehicu...</td>\n",
       "    </tr>\n",
       "  </tbody>\n",
       "</table>\n",
       "</div>"
      ],
      "text/plain": [
       "                                            previous                                                new\n",
       "0  There is a hurt person nearby to the Santa Luc...  in the 45 street there is a person blackout, a...\n",
       "1  A traffic accident in the 96 avenue, with dire...  at the section 23 of the 75 street there is a ...\n",
       "2  There is a kid who fall in a hole in the 75 st...  collision in the 67 street, with direction to ...\n",
       "3  there is a collision between vehicules at the ...  a motorcicle crash in the 67 streett, 45 sec, ...\n",
       "4  A taxi crashed against a school bus in the San...  At the 67th street, a collision between vehicu..."
      ]
     },
     "execution_count": 53,
     "metadata": {},
     "output_type": "execute_result"
    }
   ],
   "source": [
    "df_fuzzy = pd.DataFrame(list(zip(prelist, newlist)),columns =['previous', 'new'])\n",
    "df_fuzzy[:5]"
   ]
  },
  {
   "cell_type": "markdown",
   "metadata": {},
   "source": [
    "## Using 'Fuzz' to find Ratios"
   ]
  },
  {
   "cell_type": "code",
   "execution_count": 54,
   "metadata": {},
   "outputs": [],
   "source": [
    "def measureRatio(row):\n",
    "    return fuzz.ratio(str(row['previous']).lower(),str(row['new']).lower())\n",
    "\n",
    "def measurePartialRatio(row):\n",
    "    return fuzz.partial_ratio(str(row['previous']).lower(),str(row['new']).lower())\n",
    "\n",
    "def measureTokenSortRatio(row):\n",
    "    return fuzz.token_sort_ratio(row['previous'],row['new'])\n",
    "\n",
    "def measureTokenSetRatio(row):\n",
    "    return fuzz.token_set_ratio(row['previous'],row['new'])"
   ]
  },
  {
   "cell_type": "code",
   "execution_count": 55,
   "metadata": {},
   "outputs": [],
   "source": [
    "df_fuzzy['measureRatio'] = df_fuzzy.apply(lambda row: measureRatio(row), axis = 1)"
   ]
  },
  {
   "cell_type": "code",
   "execution_count": 56,
   "metadata": {},
   "outputs": [],
   "source": [
    "df_fuzzy['measurePartialRatio'] = df_fuzzy.apply(lambda row: measurePartialRatio(row), axis = 1)"
   ]
  },
  {
   "cell_type": "code",
   "execution_count": 57,
   "metadata": {},
   "outputs": [],
   "source": [
    "df_fuzzy['measureTokenSortRatio'] = df_fuzzy.apply(lambda row: measureTokenSortRatio(row), axis = 1)"
   ]
  },
  {
   "cell_type": "code",
   "execution_count": 58,
   "metadata": {},
   "outputs": [],
   "source": [
    "df_fuzzy['measureTokenSetRatio'] = df_fuzzy.apply(lambda row: measureTokenSetRatio(row), axis = 1)"
   ]
  },
  {
   "cell_type": "code",
   "execution_count": 59,
   "metadata": {},
   "outputs": [
    {
     "data": {
      "text/html": [
       "<div>\n",
       "<style scoped>\n",
       "    .dataframe tbody tr th:only-of-type {\n",
       "        vertical-align: middle;\n",
       "    }\n",
       "\n",
       "    .dataframe tbody tr th {\n",
       "        vertical-align: top;\n",
       "    }\n",
       "\n",
       "    .dataframe thead th {\n",
       "        text-align: right;\n",
       "    }\n",
       "</style>\n",
       "<table border=\"1\" class=\"dataframe\">\n",
       "  <thead>\n",
       "    <tr style=\"text-align: right;\">\n",
       "      <th></th>\n",
       "      <th>previous</th>\n",
       "      <th>new</th>\n",
       "      <th>measureRatio</th>\n",
       "      <th>measurePartialRatio</th>\n",
       "      <th>measureTokenSortRatio</th>\n",
       "      <th>measureTokenSetRatio</th>\n",
       "    </tr>\n",
       "  </thead>\n",
       "  <tbody>\n",
       "    <tr>\n",
       "      <th>0</th>\n",
       "      <td>There is a hurt person nearby to the Santa Luc...</td>\n",
       "      <td>in the 45 street there is a person blackout, a...</td>\n",
       "      <td>51</td>\n",
       "      <td>48</td>\n",
       "      <td>61</td>\n",
       "      <td>71</td>\n",
       "    </tr>\n",
       "    <tr>\n",
       "      <th>1</th>\n",
       "      <td>A traffic accident in the 96 avenue, with dire...</td>\n",
       "      <td>at the section 23 of the 75 street there is a ...</td>\n",
       "      <td>44</td>\n",
       "      <td>44</td>\n",
       "      <td>54</td>\n",
       "      <td>54</td>\n",
       "    </tr>\n",
       "    <tr>\n",
       "      <th>2</th>\n",
       "      <td>There is a kid who fall in a hole in the 75 st...</td>\n",
       "      <td>collision in the 67 street, with direction to ...</td>\n",
       "      <td>49</td>\n",
       "      <td>59</td>\n",
       "      <td>53</td>\n",
       "      <td>52</td>\n",
       "    </tr>\n",
       "    <tr>\n",
       "      <th>3</th>\n",
       "      <td>there is a collision between vehicules at the ...</td>\n",
       "      <td>a motorcicle crash in the 67 streett, 45 sec, ...</td>\n",
       "      <td>43</td>\n",
       "      <td>46</td>\n",
       "      <td>48</td>\n",
       "      <td>49</td>\n",
       "    </tr>\n",
       "    <tr>\n",
       "      <th>4</th>\n",
       "      <td>A taxi crashed against a school bus in the San...</td>\n",
       "      <td>At the 67th street, a collision between vehicu...</td>\n",
       "      <td>45</td>\n",
       "      <td>50</td>\n",
       "      <td>58</td>\n",
       "      <td>56</td>\n",
       "    </tr>\n",
       "  </tbody>\n",
       "</table>\n",
       "</div>"
      ],
      "text/plain": [
       "                                            previous  ... measureTokenSetRatio\n",
       "0  There is a hurt person nearby to the Santa Luc...  ...                   71\n",
       "1  A traffic accident in the 96 avenue, with dire...  ...                   54\n",
       "2  There is a kid who fall in a hole in the 75 st...  ...                   52\n",
       "3  there is a collision between vehicules at the ...  ...                   49\n",
       "4  A taxi crashed against a school bus in the San...  ...                   56\n",
       "\n",
       "[5 rows x 6 columns]"
      ]
     },
     "execution_count": 59,
     "metadata": {},
     "output_type": "execute_result"
    }
   ],
   "source": [
    "df_fuzzy[:]"
   ]
  },
  {
   "cell_type": "raw",
   "metadata": {},
   "source": [
    "As we can see, depending of our objective, we should select the measure that fills the most our needs. Then we select a threshold. For example: in the Token Set Ratio, I will select a threshold of 45 for the ratio."
   ]
  },
  {
   "cell_type": "markdown",
   "metadata": {},
   "source": [
    "## Using 'Process' to find better matches"
   ]
  },
  {
   "cell_type": "code",
   "execution_count": 60,
   "metadata": {},
   "outputs": [
    {
     "data": {
      "text/plain": [
       "[('collision in the 67 street, with direction to the school', 100, 2),\n",
       " ('in the 45 street there is a person blackout, at the 96 avenue', 54, 0),\n",
       " ('At the 67th street, a collision between vehicules around the San Juan Ave.',\n",
       "  52,\n",
       "  4),\n",
       " ('at the section 23 of the 75 street there is a oldman that needs medical attention',\n",
       "  51,\n",
       "  1),\n",
       " ('a motorcicle crash in the 67 streett, 45 sec, medical support required',\n",
       "  50,\n",
       "  3)]"
      ]
     },
     "execution_count": 60,
     "metadata": {},
     "output_type": "execute_result"
    }
   ],
   "source": [
    "process.extract('collision in the 67 street, with direction to the school', df_fuzzy['new'],scorer=fuzz.token_sort_ratio)"
   ]
  },
  {
   "cell_type": "markdown",
   "metadata": {},
   "source": [
    "In this case the best solution is the first one because it gave a 100 in similirity."
   ]
  }
 ],
 "metadata": {
  "kernelspec": {
   "display_name": "Python 3 (Spyder)",
   "language": "python3",
   "name": "python3"
  },
  "language_info": {
   "codemirror_mode": {
    "name": "ipython",
    "version": 3
   },
   "file_extension": ".py",
   "mimetype": "text/x-python",
   "name": "python",
   "nbconvert_exporter": "python",
   "pygments_lexer": "ipython3",
   "version": "3.6.10"
  }
 },
 "nbformat": 4,
 "nbformat_minor": 4
}
